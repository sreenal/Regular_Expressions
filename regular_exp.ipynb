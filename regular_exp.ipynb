{
 "cells": [
  {
   "cell_type": "code",
   "execution_count": 1,
   "metadata": {},
   "outputs": [],
   "source": [
    "import re\n"
   ]
  },
  {
   "cell_type": "markdown",
   "metadata": {},
   "source": [
    "Phone Number"
   ]
  },
  {
   "cell_type": "code",
   "execution_count": 13,
   "metadata": {},
   "outputs": [
    {
     "data": {
      "text/plain": [
       "['8714135828', '(701)-275-3692', '+919400362018', '+91-9400362018']"
      ]
     },
     "execution_count": 13,
     "metadata": {},
     "output_type": "execute_result"
    }
   ],
   "source": [
    "chatbot: \"Please share your email id and phone number?\"\n",
    "user=\"Here you go : my mail id is arunvignesh377@gmail.com and my phone number is 8714135828 also find my alternative number (701)-275-3692 and +919400362018,+91-9400362018\" \n",
    "pattern=\"\\(\\d{3}\\)-\\d{3}-\\d{4}|\\d{10}|\\+\\d{12}|\\+\\d{2}\\-\\d{10}\" \n",
    "matches= re.findall(pattern,user) \n",
    "matches"
   ]
  },
  {
   "cell_type": "markdown",
   "metadata": {},
   "source": [
    "EmailID"
   ]
  },
  {
   "cell_type": "code",
   "execution_count": 18,
   "metadata": {},
   "outputs": [
    {
     "data": {
      "text/plain": [
       "['arunvignesh377@gmail.com', 'sreenal_15@gmail.com']"
      ]
     },
     "execution_count": 18,
     "metadata": {},
     "output_type": "execute_result"
    }
   ],
   "source": [
    "chatbot: \"Please share your email id and phone number?\"\n",
    "user=\"Here you go : my mail id is arunvignesh377@gmail.com,sreenal_15@gmail.com and my phone number is 8714135828 also find my alternative number (701)-275-3692 and +919400362018,+91-9400362018\" \n",
    "pattern=\"[a-zA-Z0-9]*\\@[a-z]*\\.[a-zA-Z0-9]*|[a-zA-Z0-9_]*\\@[a-z]*\\.[a-zA-Z0-9]*\" \n",
    "matches= re.findall(pattern,user) \n",
    "matches"
   ]
  },
  {
   "cell_type": "markdown",
   "metadata": {},
   "source": [
    "Groups"
   ]
  },
  {
   "cell_type": "code",
   "execution_count": 19,
   "metadata": {},
   "outputs": [
    {
     "data": {
      "text/plain": [
       "[('arunvignesh377@gmail', ''), ('', 'sreenal_15')]"
      ]
     },
     "execution_count": 19,
     "metadata": {},
     "output_type": "execute_result"
    }
   ],
   "source": [
    "chatbot: \"Please share your email id and phone number?\"\n",
    "user=\"Here you go : my mail id is arunvignesh377@gmail.com,sreenal_15@gmail.com and my phone number is 8714135828 also find my alternative number (701)-275-3692 and +919400362018,+91-9400362018\" \n",
    "pattern=\"([a-zA-Z0-9]*\\@[a-z]*)\\.[a-zA-Z0-9]*|([a-zA-Z0-9_]*)\\@[a-z]*\\.[a-zA-Z0-9]*\" \n",
    "matches= re.findall(pattern,user) \n",
    "matches"
   ]
  },
  {
   "cell_type": "code",
   "execution_count": 21,
   "metadata": {},
   "outputs": [
    {
     "data": {
      "text/plain": [
       "[('2021 Q1', '$4.85'), ('2020 Q4', '$3')]"
      ]
     },
     "execution_count": 21,
     "metadata": {},
     "output_type": "execute_result"
    }
   ],
   "source": [
    "text = ''' Tesla's gross cost of operating lease vehicles in FY2021 Q1 was $4.85 billion. In previous quarter i.e. FY2020 Q4 it was $3 billion. ''' \n",
    "pattern=\"FY(\\d{4} Q[1-4])[^\\$]+(\\$[0-9\\.]*)\"\n",
    "matches=re.findall(pattern,text)\n",
    "matches"
   ]
  },
  {
   "cell_type": "markdown",
   "metadata": {},
   "source": [
    "PyMuPDF"
   ]
  },
  {
   "cell_type": "code",
   "execution_count": 22,
   "metadata": {},
   "outputs": [
    {
     "name": "stdout",
     "output_type": "stream",
     "text": [
      "Collecting PyMuPDF\n",
      "  Downloading PyMuPDF-1.20.2-cp39-cp39-manylinux_2_17_x86_64.manylinux2014_x86_64.whl (8.9 MB)\n",
      "\u001b[K     |████████████████████████████████| 8.9 MB 2.1 MB/s eta 0:00:01\n",
      "\u001b[?25hInstalling collected packages: PyMuPDF\n",
      "Successfully installed PyMuPDF-1.20.2\n"
     ]
    }
   ],
   "source": [
    "# !pip install PyMuPDF"
   ]
  },
  {
   "cell_type": "code",
   "execution_count": 24,
   "metadata": {},
   "outputs": [
    {
     "name": "stdout",
     "output_type": "stream",
     "text": [
      " \n",
      "SREENAL SREEDHAR \n",
      "Email ID: srinakta7@gmail.com \n",
      "Mob: +91 8848092363 \n",
      " \n",
      " \n",
      " \n",
      " \n",
      " \n",
      " \n",
      " \n",
      " \n",
      " \n",
      " \n",
      " \n",
      " \n",
      "Objective:  \n",
      " To lead a challenging career, capitalize by experience in the field GIS. Where I can contribute in the growth of the \n",
      "organization using my skills and hard work as well as to improve my personal and professional skills. To put forward my \n",
      "sincere and honest services towards an organization have its roots in GIS and Remote Sensing. To obtain GIS Analyst  \n",
      "position that fully utilizes my experience and abilities. \n",
      " \n",
      "Total Experience: 4years 10 months in GIS industries and 5 years of GIS & Remote Sensing Training Experience as Asst Prof \n",
      "Department of Remote Sensing & GIS,at KUFOS ,Kochi ,Kerala \n",
      " \n",
      "Experience: \n",
      "Assistant Professor on Contract  \n",
      "Kerala University of Fisheries and Ocean Studies \n",
      "Kochi, Kerala, India \n",
      "29/09/2014 to 31/10/2019 \n",
      "Responsibility Handled: Academically implementing M.Sc Remote Sensing Programme, both theory and Practicals in GIS, \n",
      "Photogrammetery, Remote sensing prescribed in the Syllabus \n",
      "Preparing software and Hardware list for the computer lab required for carrying out practical’s and Research \n",
      "Preparation of Examination schedule list and Class schedule for indivgual Semesters, taking students for field trips. \n",
      " \n",
      "Matlab Developer \n",
      "Mutex Group \n",
      "Kannur, Kerala, India \n",
      "21/04/2014 to 24/09/2014 \n",
      "Client: Academic Projects \n",
      "Responsibilities Handled: Image processing imageand enhancing images using Matlab Software \n",
      "Senior GIS Engineer \n",
      "ULTechnology Solutions,  \n",
      "Calicut, Kerala, India                                                                                                     \n",
      "5/12/2012 to 09/12/2013 \n",
      "Responsibilities Handled:Organizing and conducting GIS Tanning contents and setting up GIS Team Building  \n",
      " For GIS Projects \n",
      "Project: Property Mapping \n",
      "Client: Revenue Dept of Kerala Panchayath Basis \n",
      "Software’s used: Arc GIS, ERDAS, and Google Earth. MySQL spatial \n",
      "Spatial Database Generation of Cadastral Maps with the Ownership details collected from survey Team \n",
      "Conducting Q/A, for the surveyed spatial datasets \n",
      "GIS Engineer \n",
      "Map View Geographical Solutions \n",
      " Calicut, Kerala, India                                                        \n",
      " 09/05/2011 to 31/10/2012 \n",
      "Project: Geo-tourism for Wayanad District  \n",
      "Client: Map View Geo-spatial Solutions \n",
      "Software’s used: ArcGis, ERDAS, Oracle 11g, Geoserver, GlobalMapper, Google Earth \n",
      "Mapping of all Roads, Utilities, Emergency points, hospitals, Police stations, Resorts ,Hotels, Comfort stations,Homestays \n",
      "near to the locality of Tourism Hotspots., Carrying Q/A for the Survey data, compilation of data into Oracle Database using \n",
      "unique type Id for each aoi types and hosting Spatial data using Geoserver Web Map Services to WCS  \n",
      " Responsibilities Handled:Planimetric map preparation using collected GCPs, Preparation of map Layouts as per client \n",
      "Requirements, Pre Processing Satellite images, Preparation of header-files to load Raster Satellite images in Oracle, Loading \n",
      "Layers in Oracle Database using Map Builder plug-in, Configuration of Raster and Vector Layers in Geoserver with \n",
      "appropriate SLD and make it in WCS format for Web Map Services. \n",
      "Project: AVL View \n",
      "Client: Map View Geospatial Solutions  \n",
      "Software Used: Arc Gis, Oracle, GlobalMapper, Qgis, Geoserver \n",
      "Preparation of an Map Service portal using open Source GIS Software and Web Servers utilizing open Street Maps updating. \n",
      "For vehicles tracking software. \n",
      "Senior Executive Engineer (GIS/Survey) \n",
      "Geokno, \n",
      " IIT Kanpur, Uttar Pradesh, India \n",
      "21/04/2010 to 31/10/2010  \n",
      "Project: Spatial Data Base Generation of Sagar University, sagar, Madhaya Pradesh \n",
      "Client: Dr.Harisingh Gour University, Sagar. \n",
      "Team strength: 7 \n",
      "DGPS Mapping and Total Station Mapping of Entire University Plot Comprising of 830 hectares \n",
      " Responsibilities Handled: Conducting Total Station and DGPS Survey for Large Scale Mapping of Terrain and Utilities \n",
      " Preparation of Land Use Maps based on Survey Data   , Comprising of Roads, Residential areas, University Buildings, Forest \n",
      "cover within the University and determining the Boundary of the campus. \n",
      "Project: Sewer line Mapping of wazirabad \n",
      "Client: SECON International with RMSI Noida \n",
      "Software used: Arc Gis, ERDAS, Google Earth, AutoCAD Map. \n",
      "Site instruments: Leica DGPS, Trimble Total Stations. \n",
      "Team Strength: 9 \n",
      "Responsible for  Total Station Mapping all utilities including Roads, Electric Poles, Borewells,water pipe lines, Gaspipelines, \n",
      "Drainage lines and the elevation of the Roads and junction are studied ,for proposing the sewer line in the area.  \n",
      "Preparation of the Land Use Map based on the Survey. \n",
      "Senior Project Fellow \n",
      "Kerala State Remote Sensing and Environmental Center  \n",
      " Thiruvanathapuram, Kerala, India  \n",
      "11/02/2009 to 31/03/2010 \n",
      "Project: Kerala Spatial Database Generation (KSDB) \n",
      "Client:DST (Department of Science and Technology) \n",
      "Compilation of All existing layers of various projects completed and ongoing projects layer from KSREC are added to NSDI \n",
      "portal the projects include \n",
      "Project: NWIIS (National Wetland Inventory Information System) \n",
      "Client: SAC (Space Application Center) \n",
      "Software used: Arc GIS, ERDAS. \n",
      "Mapping all the wetlands surrounded by the Major lakes coming under Ramzar Convention suggested by SAC (Space \n",
      "application Center ),Preparation of the LULC Maps Surrounded to the Major Lakes in Kerala with a buffer of 5 km radius \n",
      "Mapping are performed both in the Pre-Monsoon and Post monsoon seasons \n",
      "Project: NUISI (National Urban Information System) \n",
      "Client: NRSA (National Remote Sensing Agency) \n",
      "Software used: Arc GIS, ERDAS, and Google Earth. \n",
      "Site Instrument: Garmin etrex 30 GPS \n",
      "Mapping all the major 5 cooperation’s of Kerala in the Large scale maps are prepared using CARTOSAT ,LISS4 and Fused \n",
      "image  the areas classified into level 3 LULC classification  capturing all the major urban utilities such as ,Roads,Bulidings \n",
      ",water bodies,Cannals,irrigation area, recreational areas, free land available for further development data are verified after \n",
      "the field verification  using the base map of the cities in an sustainable manner. \n",
      "Project: Kerala Bamboo Mission Project \n",
      "Client: Kerala Forest Department. \n",
      "Software’s used: Arc GIS, ERDAS, and Google Earth \n",
      "Site instrument used: Garmin etrex 30 GPS. \n",
      "Mapping all the bamboo colony mainly located in the forest covered areas and river banks ,GPS surveys were conducted \n",
      "and exact area of coverage in each located and mapped using GIS ,also image processing were used to map bamboos \n",
      "located in the inhospitable locations in the forest area estimating the accurate spectral signature . and performing \n",
      "supervised classification over the area. \n",
      " \n",
      "GIS Team Lead \n",
      "KENCOS, \n",
      " Kadirur, Kerala, India \n",
      "15/11/2007 to 07/06/2008 \n",
      "Project: Streetlight Mapping for Thalassery Municipality \n",
      "Client: Energy Management Center, Thycad, Thiruvanathapuram, Kerala \n",
      "Georeferencing of cadastral maps and digitizing the Parcels involving survey number of plots, Roads, Electric poles and \n",
      "estimating the total power consumption for the Street lamps and new sites are proposed for streetlamps for proper \n",
      "illumination during night .Maps are generated and Proposed and Existing lamps and the Electric poles and transformers are \n",
      "plotted. \n",
      " \n",
      "Educational Qualifications: \n",
      " \n",
      "M.Tech Remote Sensing (2008), Affiliated to Anna University Chennai. \n",
      "M.Sc Physics (2005), Affiliated to Kannur University \n",
      " \n",
      "Technical Skills: \n",
      " \n",
      "Geospatial Packages \n",
      " \n",
      " \n",
      " \n",
      ": Esri Arcgis 10x, Intergraph Erdas 2015, ENVI \n",
      "Open Source Geospatial Packages  \n",
      ": Q-gis, PostgreSQL, Postgis, Geoserver \n",
      "Site Instruments  \n",
      " \n",
      " \n",
      " \n",
      ": Trimble Total station, Leica DGPS, Gramin Handheld GPS \n",
      "Programming Languages  \n",
      " \n",
      " : Python development Java (basics) \n",
      "Databases \n",
      " \n",
      " \n",
      " \n",
      " \n",
      ":  MySQL, PostgreSQL  \n",
      " \n",
      "Languages Known: \n",
      " \n",
      "English \n",
      " \n",
      ": Advanced (Speak, Write, Read) \n",
      "Hindi               \n",
      " : Advanced (Speak, Write, Read) \n",
      "Malayalam  \n",
      ": Advanced (Speak, Write, Read) \n",
      "Tamil \n",
      " \n",
      ": Speak \n",
      " \n",
      " \n",
      " \n",
      "        Declaration: \n",
      "I hereby declare that all the above information’s above are true to the best of my Knowledge and belief  \n",
      "thanking you \n",
      " \n",
      " \n",
      "-Sreenal Sreedhar \n",
      " \n",
      " \n",
      " \n",
      "\n"
     ]
    }
   ],
   "source": [
    "import fitz \n",
    "with fitz.open(\"/home/sreenal/Downloads/Sreenal_Resume.pdf\") as doc:\n",
    "    text = \"\"\n",
    "    for page in doc:\n",
    "        text += page.get_text()\n",
    "print(text)"
   ]
  },
  {
   "cell_type": "code",
   "execution_count": null,
   "metadata": {},
   "outputs": [],
   "source": []
  }
 ],
 "metadata": {
  "kernelspec": {
   "display_name": "Python 3.9.7 ('base')",
   "language": "python",
   "name": "python3"
  },
  "language_info": {
   "codemirror_mode": {
    "name": "ipython",
    "version": 3
   },
   "file_extension": ".py",
   "mimetype": "text/x-python",
   "name": "python",
   "nbconvert_exporter": "python",
   "pygments_lexer": "ipython3",
   "version": "3.9.7"
  },
  "orig_nbformat": 4,
  "vscode": {
   "interpreter": {
    "hash": "f91ae6f45835f3dec64d8a00d5de489aa686995857123073c677a975fdbbfa02"
   }
  }
 },
 "nbformat": 4,
 "nbformat_minor": 2
}
